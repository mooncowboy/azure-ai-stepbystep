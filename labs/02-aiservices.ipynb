{
 "cells": [
  {
   "cell_type": "markdown",
   "metadata": {},
   "source": [
    "# Lab 0.2 - Azure AI Services\n",
    "\n",
    "Azure AI Services allow you to build cutting-edge, market-ready AI applications with out-of-the-box and customizable APIs and models.\n",
    "\n",
    "All of these services are available in the Azure portal, and can be accessed through SDKs and APIs. Some of them allow you to bring your own models and data.\n",
    "\n",
    "Brose the service directory [here](https://azure.microsoft.com/en-us/products/ai-services#Services).\n",
    "\n",
    "## Example - Azure AI Document Intelligence\n",
    "\n",
    "Azure AI Document Intelligence is a collection of pre-trained AI models that extract insights from your documents such as forms, tables, and receipts.\n",
    "\n",
    "Let's use this service as an example to how Azure AI services can be used in an application.\n",
    "\n",
    "## Step 1: Create an Azure AI Document Intelligence resource\n",
    "\n",
    "1. Go to the Azure portal and click on \"Create a resource\".\n",
    "2. Search for \"Document Intelligence\" and click on \"Create\".\n",
    "3. Choose a resource group and a name for the resource.\n",
    "4. **Region** - make sure you choose one of the following: `East US, West US2, West Europe`. This is because we'll be using the preview SDK on the labs. For production scenarios, it's recommended to go with the current GA version.\n",
    "5. Select Standard S0 as the pricing tier.\n",
    "6. Leave everything else as default and click on \"Review + create\".\n",
    "\n",
    "Note: For production scenarios, it's strongly advised to use best practices which are not implemented on these labs.\n",
    "\n",
    "## Get the Key and Endpoint\n",
    "\n",
    "In your Azure AI Document Intelligence resource, navigate to `Resource Management` > `Keys and Endpoint`. Copy the `Key` and the `Endpoint` values to the `.env` file on their respective lines.\n",
    "\n",
    "![keys](../img/docintel01.png)\n",
    "\n",
    "## Load the environment variables\n",
    "\n",
    "**Restart this notebook** to load the environment variables.\n",
    "This assumes the .env file is already created."
   ]
  },
  {
   "cell_type": "code",
   "execution_count": 1,
   "metadata": {},
   "outputs": [],
   "source": [
    "# Load the environment variables with dotenv\n",
    "from dotenv import load_dotenv\n",
    "load_dotenv()\n",
    "import os"
   ]
  },
  {
   "cell_type": "code",
   "execution_count": 2,
   "metadata": {},
   "outputs": [],
   "source": [
    "# The SDK should already be installed as it's in requirements.txt: azure-ai-documentintelligence\n",
    "\n",
    "# import libraries\n",
    "import os\n",
    "import json\n",
    "from azure.core.credentials import AzureKeyCredential\n",
    "from azure.ai.documentintelligence import DocumentIntelligenceClient\n",
    "from azure.ai.documentintelligence.models import AnalyzeResult\n",
    "from azure.ai.documentintelligence.models import AnalyzeDocumentRequest\n",
    "\n",
    "endpoint = os.getenv(\"DOCUMENT_INTELLIGENCE_ENDPOINT\")\n",
    "key = os.getenv(\"DOCUMENT_INTELLIGENCE_SUBSCRIPTION_KEY\")\n",
    "\n",
    "# Sample document\n",
    "invoiceUrl = \"https://raw.githubusercontent.com/Azure-Samples/cognitive-services-REST-api-samples/master/curl/form-recognizer/sample-invoice.pdf\"\n"
   ]
  },
  {
   "cell_type": "code",
   "execution_count": null,
   "metadata": {},
   "outputs": [],
   "source": [
    "# Create the client\n",
    "document_intelligence_client = DocumentIntelligenceClient(\n",
    "    endpoint=endpoint, credential=AzureKeyCredential(key)\n",
    ")\n",
    "\n",
    "# Start analysis\n",
    "poller = document_intelligence_client.begin_analyze_document(\n",
    "    \"prebuilt-invoice\", AnalyzeDocumentRequest(url_source=invoiceUrl)\n",
    ")\n",
    "invoices = poller.result()\n",
    "\n",
    "# Get the first result\n",
    "invoice = invoices.documents[0]\n",
    "\n",
    "# Show some fields from the result\n",
    "vendor_name = invoice.fields.get(\"VendorName\")\n",
    "if vendor_name:\n",
    "    print(\n",
    "        f\"Vendor Name: {vendor_name.get('content')} has confidence: {vendor_name.get('confidence')}\"\n",
    "    )\n",
    "\n",
    "amount_due = invoice.fields.get(\"AmountDue\")\n",
    "if amount_due:\n",
    "    print(\n",
    "        f\"Amount Due: {amount_due.get('content')} has confidence: {amount_due.get('confidence')}\"\n",
    "    )\n"
   ]
  },
  {
   "cell_type": "code",
   "execution_count": null,
   "metadata": {},
   "outputs": [],
   "source": [
    "# Show result\n",
    "print(\"Full result: ---------------------------\")\n",
    "print(json.dumps(invoices, indent=4, default=lambda o: o.__dict__))"
   ]
  }
 ],
 "metadata": {
  "kernelspec": {
   "display_name": "env",
   "language": "python",
   "name": "python3"
  },
  "language_info": {
   "codemirror_mode": {
    "name": "ipython",
    "version": 3
   },
   "file_extension": ".py",
   "mimetype": "text/x-python",
   "name": "python",
   "nbconvert_exporter": "python",
   "pygments_lexer": "ipython3",
   "version": "3.12.6"
  }
 },
 "nbformat": 4,
 "nbformat_minor": 2
}
